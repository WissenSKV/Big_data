{
 "cells": [
  {
   "cell_type": "markdown",
   "id": "91e6326d-ac81-43ec-9aed-c50367565307",
   "metadata": {},
   "source": [
    "# Kan Vladislav AIN-2-22"
   ]
  },
  {
   "cell_type": "markdown",
   "id": "29f72e97-aeff-4185-b160-e94f54f977ee",
   "metadata": {},
   "source": [
    "# Getting start with Jupyter Python\n",
    "\n",
    "## We have done\n",
    "* Install [Python](https://www.python.org/downloads/) 3.10\n",
    "* Install Jupyter Python in PyCharm"
   ]
  },
  {
   "cell_type": "markdown",
   "id": "63687301-49e2-4f58-bc60-59d4075a2dfa",
   "metadata": {},
   "source": [
    "### Basic"
   ]
  },
  {
   "cell_type": "code",
   "execution_count": 43,
   "id": "06491ce6-9d87-42bf-8df8-67246791d92e",
   "metadata": {},
   "outputs": [
    {
     "name": "stdout",
     "output_type": "stream",
     "text": [
      "hello, hi\n"
     ]
    }
   ],
   "source": [
    "print('hello, hi')"
   ]
  },
  {
   "cell_type": "code",
   "execution_count": 44,
   "id": "477c39de-43b2-449c-9487-63692a464af1",
   "metadata": {},
   "outputs": [
    {
     "name": "stdout",
     "output_type": "stream",
     "text": [
      "3\n"
     ]
    }
   ],
   "source": [
    "i=3\n",
    "print(i)"
   ]
  },
  {
   "cell_type": "code",
   "execution_count": 45,
   "id": "23b380e0-e98f-4e68-98dc-2f0c7dc7e0d4",
   "metadata": {},
   "outputs": [
    {
     "name": "stdout",
     "output_type": "stream",
     "text": [
      "9\n"
     ]
    }
   ],
   "source": [
    "c=i+6\n",
    "print(c)"
   ]
  },
  {
   "cell_type": "code",
   "execution_count": 46,
   "id": "083cb7e1-4633-42c0-a272-68f8fee5b22c",
   "metadata": {},
   "outputs": [
    {
     "data": {
      "text/plain": [
       "96"
      ]
     },
     "execution_count": 46,
     "metadata": {},
     "output_type": "execute_result"
    }
   ],
   "source": [
    "# Raw NBConvert\n",
    "41+55"
   ]
  },
  {
   "cell_type": "code",
   "execution_count": 47,
   "id": "b5deb64c-4ac7-4be3-b146-ff30947afc17",
   "metadata": {},
   "outputs": [
    {
     "name": "stdout",
     "output_type": "stream",
     "text": [
      "<class 'int'>\n"
     ]
    }
   ],
   "source": [
    "a=5\n",
    "t=type(a)\n",
    "print(t)\n"
   ]
  },
  {
   "cell_type": "markdown",
   "id": "d6b72e6a-38b3-4d99-9168-c4cf02825598",
   "metadata": {},
   "source": [
    "### Create some variables"
   ]
  },
  {
   "cell_type": "code",
   "execution_count": 48,
   "id": "2bf7c4b0-a3a3-4d61-acd0-72a030796a0b",
   "metadata": {},
   "outputs": [
    {
     "name": "stdout",
     "output_type": "stream",
     "text": [
      "<class 'int'>\n",
      "<class 'float'>\n",
      "This is a string, real \n"
     ]
    }
   ],
   "source": [
    "i=1 #int\n",
    "\n",
    "ii=type(i)\n",
    "print(ii)\n",
    "f=5.1 #float\n",
    "\n",
    "ff=type(f)\n",
    "print(ff)\n",
    "b=True #boolean variable\n",
    "\n",
    "s=\"This is a string, real \"\n",
    "\n",
    "print(s)"
   ]
  },
  {
   "cell_type": "markdown",
   "id": "95a31434-7497-44a5-86de-a429283da0e7",
   "metadata": {},
   "source": [
    "### Advanced types"
   ]
  },
  {
   "cell_type": "code",
   "execution_count": 49,
   "id": "744d34c5-d8d6-4d06-9dc5-62a15931ec8c",
   "metadata": {},
   "outputs": [
    {
     "name": "stdout",
     "output_type": "stream",
     "text": [
      "[5, 5, 6]\n",
      "{'rot': 1, 'foot': 3.3, 'g': 'first'}\n",
      "1\n",
      "None\n"
     ]
    }
   ],
   "source": [
    "l = [5,5,6] #list\n",
    "\n",
    "print(l)\n",
    "\n",
    "d={'rot':1, 'foot':3.3, 'g':'first'} #dictionary\n",
    "\n",
    "print(d)\n",
    "\n",
    "print(d['rot']) #element of the dictionary\n",
    "\n",
    "n=None # Python's null type\n",
    "\n",
    "type(n)\n",
    "print(n)"
   ]
  },
  {
   "cell_type": "markdown",
   "id": "94c25763-2146-48fe-9174-457a7964ff36",
   "metadata": {},
   "source": [
    "### Математические функции "
   ]
  },
  {
   "cell_type": "code",
   "execution_count": 50,
   "id": "9119b82d-776e-494c-a1d7-6203361b59e7",
   "metadata": {},
   "outputs": [
    {
     "name": "stdout",
     "output_type": "stream",
     "text": [
      "Возведение числа 12 в куб 1728.0\n"
     ]
    }
   ],
   "source": [
    "import math\n",
    "p=math.pow(12,3)\n",
    "print('Возведение числа 12 в куб', p)"
   ]
  },
  {
   "cell_type": "code",
   "execution_count": 51,
   "id": "fc29e1cb-773e-443d-b091-8c9bce396324",
   "metadata": {},
   "outputs": [
    {
     "name": "stdout",
     "output_type": "stream",
     "text": [
      "Квадратный корень из 25 равен 5.0\n",
      "\n",
      "Синус угла 45 градусов равен 0.7071067811865476\n",
      "\n",
      "Квадратный корень из 25 равен 5.0\n",
      "\n",
      "Логарифм числа 1000 по основанию 10 равен 3.0\n",
      "\n",
      "Число 4.3 округлено вверх до 5\n",
      "\n",
      "Гипотенуза треугольника со сторонами 3 и 4 равна 5.0\n",
      "\n",
      "Модуль числа -7.8 равен 7.8\n",
      "\n",
      "Экспонента от 2 равна 7.38905609893065\n"
     ]
    }
   ],
   "source": [
    "import math\n",
    "\n",
    "number = 25\n",
    "result = math.sqrt(number)\n",
    "print(f'Квадратный корень из {number} равен {result}\\n')\n",
    "\n",
    "\n",
    "angle_rad = math.pi / 4  # 45 градусов в радианах\n",
    "sin_value = math.sin(angle_rad)\n",
    "print(f'Синус угла 45 градусов равен {sin_value}\\n')\n",
    "\n",
    "\n",
    "number = 25\n",
    "result = math.sqrt(number)\n",
    "print(f'Квадратный корень из {number} равен {result}\\n')\n",
    "\n",
    "\n",
    "number = 1000\n",
    "log_value = math.log10(number)\n",
    "print(f'Логарифм числа {number} по основанию 10 равен {log_value}\\n')\n",
    "\n",
    "\n",
    "number = 4.3\n",
    "ceil_value = math.ceil(number)\n",
    "print(f'Число {number} округлено вверх до {ceil_value}\\n')\n",
    "\n",
    "\n",
    "a = 3\n",
    "b = 4\n",
    "hypotenuse = math.hypot(a, b)\n",
    "print(f'Гипотенуза треугольника со сторонами {a} и {b} равна {hypotenuse}\\n')\n",
    "\n",
    "\n",
    "number = -7.8\n",
    "abs_value = math.fabs(number)\n",
    "print(f'Модуль числа {number} равен {abs_value}\\n')\n",
    "\n",
    "\n",
    "x = 2\n",
    "exp_value = math.exp(x)\n",
    "print(f'Экспонента от {x} равна {exp_value}')\n"
   ]
  },
  {
   "cell_type": "markdown",
   "id": "e27a7556-5c96-4cca-a22e-0be2e2ed8b2a",
   "metadata": {},
   "source": [
    "### Advance printing"
   ]
  },
  {
   "cell_type": "code",
   "execution_count": 52,
   "id": "0b843957-e8fa-44bc-82cd-4978393b646e",
   "metadata": {},
   "outputs": [
    {
     "name": "stdout",
     "output_type": "stream",
     "text": [
      "Our first value is False. Our second value is 5.\n"
     ]
    }
   ],
   "source": [
    "i=5\n",
    "n=False\n",
    "print('Our first value is %s. Our second value is %s.' %(n,i))"
   ]
  },
  {
   "cell_type": "markdown",
   "id": "80c361ae-4c93-4919-b21f-495ceedb9c3d",
   "metadata": {},
   "source": [
    "### Conditional statements"
   ]
  },
  {
   "cell_type": "code",
   "execution_count": 53,
   "id": "79683859-ed92-4459-b9d6-902aa36e2157",
   "metadata": {},
   "outputs": [
    {
     "name": "stdout",
     "output_type": "stream",
     "text": [
      "both i and f are less than or equal to 5\n"
     ]
    }
   ],
   "source": [
    "i=2\n",
    "f=1.1\n",
    "if i==2 and f>5:\n",
    "    print(\"The value of i is 2 and f is greater than 5.\")\n",
    "elif i>5 or f >5:\n",
    "    print(\"i or f are both greater than 5.\")\n",
    "else:\n",
    "    print(\"both i and f are less than or equal to 5\")\n"
   ]
  },
  {
   "cell_type": "markdown",
   "id": "85bd3f13-f15b-4a66-874b-bf8c0cef842b",
   "metadata": {},
   "source": [
    "### Conditional loops"
   ]
  },
  {
   "cell_type": "code",
   "execution_count": 54,
   "id": "3806d71f-f6ba-43e1-a08d-ffd3206015fa",
   "metadata": {},
   "outputs": [
    {
     "name": "stdout",
     "output_type": "stream",
     "text": [
      "[4, 5, 1]\n"
     ]
    }
   ],
   "source": [
    "l=[4,5,1]\n",
    "print(l)"
   ]
  },
  {
   "cell_type": "code",
   "execution_count": 55,
   "id": "0c1ea2b6-3b8c-4070-a667-e58439537765",
   "metadata": {},
   "outputs": [
    {
     "name": "stdout",
     "output_type": "stream",
     "text": [
      "4\n",
      "5\n",
      "1\n"
     ]
    }
   ],
   "source": [
    "for e in l:\n",
    "    print(e)"
   ]
  },
  {
   "cell_type": "code",
   "execution_count": 56,
   "id": "276902bf-6de2-462b-ae8f-b1374bf7df53",
   "metadata": {},
   "outputs": [
    {
     "name": "stdout",
     "output_type": "stream",
     "text": [
      "Это числа от 0 до 19: 0\n",
      "Это числа от 0 до 19: 1\n",
      "Это числа от 0 до 19: 2\n",
      "Это числа от 0 до 19: 3\n",
      "Это числа от 0 до 19: 4\n",
      "Это числа от 0 до 19: 5\n",
      "Это числа от 0 до 19: 6\n",
      "Это числа от 0 до 19: 7\n",
      "Это числа от 0 до 19: 8\n",
      "Это числа от 0 до 19: 9\n",
      "Это числа от 0 до 19: 10\n",
      "Это числа от 0 до 19: 11\n",
      "Это числа от 0 до 19: 12\n",
      "Это числа от 0 до 19: 13\n",
      "Это числа от 0 до 19: 14\n",
      "Это числа от 0 до 19: 15\n",
      "Это числа от 0 до 19: 16\n",
      "Это числа от 0 до 19: 17\n",
      "Это числа от 0 до 19: 18\n",
      "Это числа от 0 до 19: 19\n"
     ]
    }
   ],
   "source": [
    "for n in range(20):\n",
    "    print('Это числа от 0 до 19:', n)"
   ]
  },
  {
   "cell_type": "code",
   "execution_count": 57,
   "id": "90a049c7-33c0-445d-9edf-5203309c7420",
   "metadata": {},
   "outputs": [
    {
     "name": "stdout",
     "output_type": "stream",
     "text": [
      "Number: 0\n",
      "Number: 1\n",
      "Number: 2\n",
      "Number: 3\n",
      "Number: 4\n",
      "Number: 5\n",
      "Number: 6\n",
      "Number: 7\n",
      "Number: 8\n",
      "Number: 9\n"
     ]
    }
   ],
   "source": [
    "import time\n",
    "for n in range(10):\n",
    "    time.sleep(1)\n",
    "    print('Number:', n)"
   ]
  },
  {
   "cell_type": "code",
   "execution_count": 58,
   "id": "03cc7bcb-4a55-4431-a823-4d0c74f87b3c",
   "metadata": {},
   "outputs": [
    {
     "name": "stdout",
     "output_type": "stream",
     "text": [
      "4\n",
      "5\n",
      "6\n",
      "7\n",
      "8\n"
     ]
    }
   ],
   "source": [
    "counter=4\n",
    "while counter <9:\n",
    "    print(counter)\n",
    "    counter+=1"
   ]
  },
  {
   "cell_type": "markdown",
   "id": "c353a59d-9669-44aa-9278-32deecec3b4c",
   "metadata": {},
   "source": [
    "### Creating functions "
   ]
  },
  {
   "cell_type": "code",
   "execution_count": 59,
   "id": "e054c79b-ccb8-4cca-af85-683cd63eae04",
   "metadata": {},
   "outputs": [
    {
     "data": {
      "text/plain": [
       "4"
      ]
     },
     "execution_count": 59,
     "metadata": {},
     "output_type": "execute_result"
    }
   ],
   "source": [
    "def add2(x):\n",
    "    y=x+1\n",
    "    return y\n",
    "i=3\n",
    "add2(i)"
   ]
  },
  {
   "cell_type": "markdown",
   "id": "58a39001-3949-4924-954d-6ba19d50cea6",
   "metadata": {},
   "source": [
    "### Lambda"
   ]
  },
  {
   "cell_type": "code",
   "execution_count": 60,
   "id": "8b2358a4-73a7-4f42-8f9e-6db8ff5d9c94",
   "metadata": {},
   "outputs": [
    {
     "data": {
      "text/plain": [
       "4"
      ]
     },
     "execution_count": 60,
     "metadata": {},
     "output_type": "execute_result"
    }
   ],
   "source": [
    "square = lambda x: x*x\n",
    "square(2)"
   ]
  },
  {
   "cell_type": "code",
   "execution_count": 61,
   "id": "27a02e55-ac3c-4942-b07e-9364ea10d0ad",
   "metadata": {},
   "outputs": [
    {
     "name": "stdout",
     "output_type": "stream",
     "text": [
      "4\n"
     ]
    }
   ],
   "source": [
    "x = lambda a,b : a*b\n",
    "print(x(2,2))"
   ]
  },
  {
   "cell_type": "code",
   "execution_count": 62,
   "id": "ba4c3c84-36b3-422d-a5e2-9e064e53df2f",
   "metadata": {},
   "outputs": [
    {
     "name": "stdout",
     "output_type": "stream",
     "text": [
      "10\n"
     ]
    }
   ],
   "source": [
    "# Arguments a, b and c.\n",
    "x = lambda a,b,c : a+b+c\n",
    "print(x(2,2,6))"
   ]
  },
  {
   "cell_type": "markdown",
   "id": "aac13bf0-8432-4c33-9d70-98157e1fef8f",
   "metadata": {},
   "source": [
    "## HTML"
   ]
  },
  {
   "cell_type": "markdown",
   "id": "53fa20d9-9d13-4062-9bd5-2433045a6c71",
   "metadata": {},
   "source": [
    "<h1> Heading 1 </h1>\n",
    "<h2> Heading 2 </h2>\n",
    "<h3> Heading 3 </h3>\n",
    "<h4> Heading 4 </h4>\n",
    "<h5> Heading 5 </h5>\n",
    "<h6> Heading 6 </h6>"
   ]
  },
  {
   "cell_type": "markdown",
   "id": "93669fec-e134-43ef-8448-edda8092b605",
   "metadata": {},
   "source": [
    "## Img"
   ]
  },
  {
   "cell_type": "markdown",
   "id": "ac379afe-bd59-43a8-aea9-b6c7e126fbc4",
   "metadata": {},
   "source": [
    "<img src='pr.jpg' width='200'>"
   ]
  },
  {
   "cell_type": "markdown",
   "id": "185d16d9-c7e8-4ac2-9855-95aca17c95a0",
   "metadata": {},
   "source": [
    "## Formulas"
   ]
  },
  {
   "cell_type": "markdown",
   "id": "08fbe985-1d50-46d1-b82a-c1a3bf46cee2",
   "metadata": {},
   "source": [
    "\\begin{equation*}\n",
    "\\left(sum_{k=1}^n a_k b_k\\right)^2\n",
    "\\end{equation*}"
   ]
  },
  {
   "cell_type": "markdown",
   "id": "3b3cb9fe-b1d6-4412-9ca4-017658c464f6",
   "metadata": {},
   "source": [
    "\\begin{equation*}\n",
    "E=mc^2\n",
    "\\end{equation*}"
   ]
  },
  {
   "cell_type": "code",
   "execution_count": 71,
   "id": "59a96eea-7370-4f8c-9f49-1f683e58a48c",
   "metadata": {},
   "outputs": [
    {
     "name": "stdout",
     "output_type": "stream",
     "text": [
      "\n",
      "Windows IP Configuration\n",
      "\n",
      "\n",
      "Ethernet adapter Ethernet:\n",
      "\n",
      "   Media State . . . . . . . . . . . : Media disconnected\n",
      "   Connection-specific DNS Suffix  . : netis\n",
      "\n",
      "Wireless LAN adapter ??????????? ?? ????????? ????* 9:\n",
      "\n",
      "   Media State . . . . . . . . . . . : Media disconnected\n",
      "   Connection-specific DNS Suffix  . : \n",
      "\n",
      "Wireless LAN adapter ??????????? ?? ????????? ????* 10:\n",
      "\n",
      "   Media State . . . . . . . . . . . : Media disconnected\n",
      "   Connection-specific DNS Suffix  . : \n",
      "\n",
      "Ethernet adapter VMware Network Adapter VMnet1:\n",
      "\n",
      "   Connection-specific DNS Suffix  . : \n",
      "   Link-local IPv6 Address . . . . . : fe80::6c39:6d4e:bf93:afe9%21\n",
      "   IPv4 Address. . . . . . . . . . . : 192.168.239.1\n",
      "   Subnet Mask . . . . . . . . . . . : 255.255.255.0\n",
      "   Default Gateway . . . . . . . . . : \n",
      "\n",
      "Ethernet adapter VMware Network Adapter VMnet8:\n",
      "\n",
      "   Connection-specific DNS Suffix  . : \n",
      "   Link-local IPv6 Address . . . . . : fe80::ebce:52a1:99a1:2cd2%19\n",
      "   IPv4 Address. . . . . . . . . . . : 192.168.41.1\n",
      "   Subnet Mask . . . . . . . . . . . : 255.255.255.0\n",
      "   Default Gateway . . . . . . . . . : \n",
      "\n",
      "Wireless LAN adapter ???????????? ????:\n",
      "\n",
      "   Media State . . . . . . . . . . . : Media disconnected\n",
      "   Connection-specific DNS Suffix  . : \n",
      "\n",
      "Ethernet adapter vEthernet (Default Switch):\n",
      "\n",
      "   Connection-specific DNS Suffix  . : \n",
      "   Link-local IPv6 Address . . . . . : fe80::3c85:aa10:df56:bc6%24\n",
      "   IPv4 Address. . . . . . . . . . . : 172.29.144.1\n",
      "   Subnet Mask . . . . . . . . . . . : 255.255.240.0\n",
      "   Default Gateway . . . . . . . . . : \n",
      "\n",
      "Ethernet adapter vEthernet (WSL (Hyper-V firewall)):\n",
      "\n",
      "   Connection-specific DNS Suffix  . : \n",
      "   Link-local IPv6 Address . . . . . : fe80::c7cb:d646:20be:dac1%57\n",
      "   IPv4 Address. . . . . . . . . . . : 172.29.240.1\n",
      "   Subnet Mask . . . . . . . . . . . : 255.255.240.0\n",
      "   Default Gateway . . . . . . . . . : \n"
     ]
    }
   ],
   "source": [
    "! ipconfig"
   ]
  },
  {
   "cell_type": "code",
   "execution_count": 69,
   "id": "8c7ca10c-f7d4-4e3d-8a38-dd9241259ace",
   "metadata": {},
   "outputs": [
    {
     "name": "stdout",
     "output_type": "stream",
     "text": [
      "\n",
      "Pinging google.com [74.125.205.102] with 32 bytes of data:\n",
      "Reply from 74.125.205.102: bytes=32 time=71ms TTL=58\n",
      "Reply from 74.125.205.102: bytes=32 time=70ms TTL=58\n",
      "Reply from 74.125.205.102: bytes=32 time=76ms TTL=58\n",
      "Reply from 74.125.205.102: bytes=32 time=70ms TTL=58\n",
      "\n",
      "Ping statistics for 74.125.205.102:\n",
      "    Packets: Sent = 4, Received = 4, Lost = 0 (0% loss),\n",
      "Approximate round trip times in milli-seconds:\n",
      "    Minimum = 70ms, Maximum = 76ms, Average = 71ms\n"
     ]
    }
   ],
   "source": [
    "! ping google.com"
   ]
  },
  {
   "cell_type": "markdown",
   "id": "8a3ab2fa-8cff-4570-8251-3bbd74bb6d55",
   "metadata": {},
   "source": [
    "## Task 4\n",
    "* Напишите функцию, которая производит вычисление по формуле:\n",
    "\\begin{equation*}\n",
    "f = \\left(\\frac{9 \\pi t + 10 \\cos(x)}{\\sqrt{t} - \\sin(x)}\\right) e^{-2t}\n",
    "\\end{equation*}"
   ]
  },
  {
   "cell_type": "code",
   "execution_count": 72,
   "id": "a465fd67-abbb-4ab1-a53d-e50924c6261b",
   "metadata": {},
   "outputs": [
    {
     "name": "stdout",
     "output_type": "stream",
     "text": [
      "0.11673401474324724\n"
     ]
    }
   ],
   "source": [
    "import math\n",
    "def functionF(x,t):\n",
    "    first = 9*math.pi*t+10*math.cos(x)\n",
    "    second = math.sqrt(t)-math.sin(x)\n",
    "    third = math.e**(-2*t)\n",
    "    print(first/second*third)\n",
    "functionF(3,3)"
   ]
  },
  {
   "cell_type": "markdown",
   "id": "b5b4772b-371d-4466-a24f-6c1593b6c785",
   "metadata": {},
   "source": [
    "## Task 5\n",
    "* Напишите функцию, которая из трех чисел находит все принадлежащие интервалу от a до b (границы интервала задать произвольно)."
   ]
  },
  {
   "cell_type": "code",
   "execution_count": 73,
   "id": "43f907db-3962-48d9-b2de-a105fa52633e",
   "metadata": {},
   "outputs": [
    {
     "name": "stdout",
     "output_type": "stream",
     "text": [
      "[10, 5]\n"
     ]
    }
   ],
   "source": [
    "def findN(a, b, n1, n2, n3):\n",
    "  result = []\n",
    "\n",
    "  if a <= n1 <= b:\n",
    "      result.append(n1)\n",
    "  if a <= n2 <= b:\n",
    "      result.append(n2)\n",
    "  if a <= n3 <= b:\n",
    "      result.append(n3)\n",
    "\n",
    "  return result\n",
    "\n",
    "print(findN(1, 30, 10, 5, 31))\n",
    "     "
   ]
  },
  {
   "cell_type": "markdown",
   "id": "05136617-50d9-4274-a4df-2ade66264443",
   "metadata": {},
   "source": [
    "## Task 6\n",
    "* Создайте генератор 20-ти случайных чисел в диапазоне от 0 до 10."
   ]
  },
  {
   "cell_type": "code",
   "execution_count": 74,
   "id": "08f7f90d-bf27-4e4c-b468-c005d3740bce",
   "metadata": {},
   "outputs": [
    {
     "name": "stdout",
     "output_type": "stream",
     "text": [
      "[1, 8, 7, 0, 6, 0, 7, 4, 5, 3, 0, 4, 4, 3, 3, 1, 7, 10, 4, 6]\n"
     ]
    }
   ],
   "source": [
    "import random\n",
    "\n",
    "rand = [random.randint(0, 10) for i in range(20)]\n",
    "print(rand)"
   ]
  },
  {
   "cell_type": "markdown",
   "id": "75cb4cdd-2830-4791-a11e-1e512cb9b208",
   "metadata": {},
   "source": [
    "## Task 7\n",
    "* Вычислите сумму 20 элементов последовательности:\n",
    "\\begin{equation*}\n",
    "\\frac{1}{2+3}, \\frac{2}{3+4}, \\frac{3}{4+5}\n",
    "\\end{equation*}\n",
    "\n"
   ]
  },
  {
   "cell_type": "code",
   "execution_count": 75,
   "id": "351b9a36-6e43-43d4-9927-16e3907ccc0a",
   "metadata": {},
   "outputs": [
    {
     "name": "stdout",
     "output_type": "stream",
     "text": [
      "8.209021097669307\n"
     ]
    }
   ],
   "source": [
    "def element(n):\n",
    "    return n / ((n + 1) + (n + 2))\n",
    "\n",
    "t_sum = sum(element(n) for n in range(1, 21))\n",
    "\n",
    "print(t_sum)\n"
   ]
  }
 ],
 "metadata": {
  "kernelspec": {
   "display_name": "Python 3 (ipykernel)",
   "language": "python",
   "name": "python3"
  },
  "language_info": {
   "codemirror_mode": {
    "name": "ipython",
    "version": 3
   },
   "file_extension": ".py",
   "mimetype": "text/x-python",
   "name": "python",
   "nbconvert_exporter": "python",
   "pygments_lexer": "ipython3",
   "version": "3.10.7"
  }
 },
 "nbformat": 4,
 "nbformat_minor": 5
}
