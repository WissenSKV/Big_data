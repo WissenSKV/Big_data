{
 "cells": [
  {
   "cell_type": "markdown",
   "id": "458f70d2-8476-4dc8-9e67-aa267ce0bbc0",
   "metadata": {},
   "source": [
    "# Kan Vladislav AIN-2-22"
   ]
  },
  {
   "cell_type": "markdown",
   "id": "d0016f8f-de4c-4bce-9e5c-1e64efa40c63",
   "metadata": {},
   "source": [
    "# Lab 2"
   ]
  },
  {
   "cell_type": "code",
   "execution_count": 51,
   "id": "207f6945-cec2-43d7-8979-611626071c2e",
   "metadata": {},
   "outputs": [],
   "source": [
    "import numpy as np"
   ]
  },
  {
   "cell_type": "code",
   "execution_count": 52,
   "id": "572544f5-23ba-4e0b-8698-d22a80b18160",
   "metadata": {},
   "outputs": [
    {
     "data": {
      "text/plain": [
       "array([1, 2, 3])"
      ]
     },
     "execution_count": 52,
     "metadata": {},
     "output_type": "execute_result"
    }
   ],
   "source": [
    "a= np.array([1,2,3])\n",
    "a"
   ]
  },
  {
   "cell_type": "code",
   "execution_count": 53,
   "id": "d9dbdb43-3d92-4b66-8b32-c3260395205f",
   "metadata": {},
   "outputs": [
    {
     "data": {
      "text/plain": [
       "array([[1.2, 2.5],\n",
       "       [0.5, 4.5]])"
      ]
     },
     "execution_count": 53,
     "metadata": {},
     "output_type": "execute_result"
    }
   ],
   "source": [
    "b= np.array([[1.2, 2.5], [0.5, 4.5]])\n",
    "b"
   ]
  },
  {
   "cell_type": "code",
   "execution_count": 54,
   "id": "ac77a72e-012c-4853-ac5a-aab3f922632e",
   "metadata": {},
   "outputs": [
    {
     "data": {
      "text/plain": [
       "array([[1, 2, 5],\n",
       "       [5, 6, 5]])"
      ]
     },
     "execution_count": 54,
     "metadata": {},
     "output_type": "execute_result"
    }
   ],
   "source": [
    "c= np.array([[1, 2, 5], [5, 6, 5]])\n",
    "c"
   ]
  },
  {
   "cell_type": "code",
   "execution_count": 55,
   "id": "129973bd-5b15-4abb-8b03-e196b41845f7",
   "metadata": {},
   "outputs": [
    {
     "data": {
      "text/plain": [
       "array([[1, 2, 5],\n",
       "       [5, 6, 5]])"
      ]
     },
     "execution_count": 55,
     "metadata": {},
     "output_type": "execute_result"
    }
   ],
   "source": [
    "d= np.array(((1, 2, 5), (5, 6, 5)))\n",
    "d"
   ]
  },
  {
   "cell_type": "code",
   "execution_count": 56,
   "id": "53e1c65d-c8dd-49ed-a9de-7e5aaf8a5802",
   "metadata": {},
   "outputs": [
    {
     "data": {
      "text/plain": [
       "array([[1, 2, 5],\n",
       "       [5, 6, 7],\n",
       "       [5, 6, 5]])"
      ]
     },
     "execution_count": 56,
     "metadata": {},
     "output_type": "execute_result"
    }
   ],
   "source": [
    "e= np.array([(1, 2, 5),(5,6,7), (5, 6, 5)])\n",
    "e"
   ]
  },
  {
   "cell_type": "markdown",
   "id": "e12af833-9969-40ee-a0fe-da28be49ec52",
   "metadata": {},
   "source": [
    "### Параметр dtype"
   ]
  },
  {
   "cell_type": "code",
   "execution_count": 57,
   "id": "d6bc0e2c-bae7-4f46-b297-e115010a495d",
   "metadata": {},
   "outputs": [
    {
     "data": {
      "text/plain": [
       "array([[1., 2., 5.],\n",
       "       [5., 6., 7.]])"
      ]
     },
     "execution_count": 57,
     "metadata": {},
     "output_type": "execute_result"
    }
   ],
   "source": [
    "v= np.array(((1, 2, 5),(5,6,7)), dtype=float)\n",
    "v"
   ]
  },
  {
   "cell_type": "markdown",
   "id": "a97d698e-748f-435f-84c8-b00922f2822b",
   "metadata": {},
   "source": [
    "### Функции генерации массива"
   ]
  },
  {
   "cell_type": "code",
   "execution_count": 58,
   "id": "516afa1d-7faf-4bed-8904-a6289edc8df4",
   "metadata": {},
   "outputs": [
    {
     "data": {
      "text/plain": [
       "array([[0., 0., 0., 0.],\n",
       "       [0., 0., 0., 0.],\n",
       "       [0., 0., 0., 0.],\n",
       "       [0., 0., 0., 0.]])"
      ]
     },
     "execution_count": 58,
     "metadata": {},
     "output_type": "execute_result"
    }
   ],
   "source": [
    "np.zeros((4,4))"
   ]
  },
  {
   "cell_type": "code",
   "execution_count": 59,
   "id": "a56d1b61-ceaf-47a9-8c6e-f1f48c806282",
   "metadata": {},
   "outputs": [
    {
     "data": {
      "text/plain": [
       "array([[1., 1., 1., 1.],\n",
       "       [1., 1., 1., 1.],\n",
       "       [1., 1., 1., 1.],\n",
       "       [1., 1., 1., 1.]])"
      ]
     },
     "execution_count": 59,
     "metadata": {},
     "output_type": "execute_result"
    }
   ],
   "source": [
    "np.ones((4,4))"
   ]
  },
  {
   "cell_type": "code",
   "execution_count": 60,
   "id": "ace3cb70-5a61-448d-996f-974efb7303b9",
   "metadata": {},
   "outputs": [
    {
     "data": {
      "text/plain": [
       "array([4, 5, 6, 7, 8, 9])"
      ]
     },
     "execution_count": 60,
     "metadata": {},
     "output_type": "execute_result"
    }
   ],
   "source": [
    "np.arange(4,10)"
   ]
  },
  {
   "cell_type": "code",
   "execution_count": 61,
   "id": "941e4a8a-9bfb-46ee-80cf-f1db82415b50",
   "metadata": {},
   "outputs": [
    {
     "data": {
      "text/plain": [
       "array([0, 4, 8])"
      ]
     },
     "execution_count": 61,
     "metadata": {},
     "output_type": "execute_result"
    }
   ],
   "source": [
    "np.arange(0, 12, 4)"
   ]
  },
  {
   "cell_type": "code",
   "execution_count": 62,
   "id": "eee2fa51-5eac-4ddc-b0b9-978c82eb27e8",
   "metadata": {},
   "outputs": [
    {
     "data": {
      "text/plain": [
       "array([ 0. ,  0.6,  1.2,  1.8,  2.4,  3. ,  3.6,  4.2,  4.8,  5.4,  6. ,\n",
       "        6.6,  7.2,  7.8,  8.4,  9. ,  9.6, 10.2, 10.8, 11.4])"
      ]
     },
     "execution_count": 62,
     "metadata": {},
     "output_type": "execute_result"
    }
   ],
   "source": [
    "np.arange(0, 12, 0.6)"
   ]
  },
  {
   "cell_type": "code",
   "execution_count": 63,
   "id": "fcc20fe9-f8ff-496a-96a9-23356e76e113",
   "metadata": {},
   "outputs": [
    {
     "data": {
      "text/plain": [
       "array([[ 0,  1,  2,  3],\n",
       "       [ 4,  5,  6,  7],\n",
       "       [ 8,  9, 10, 11]])"
      ]
     },
     "execution_count": 63,
     "metadata": {},
     "output_type": "execute_result"
    }
   ],
   "source": [
    "np.arange(0, 12).reshape(3,4)"
   ]
  },
  {
   "cell_type": "code",
   "execution_count": 64,
   "id": "caec5c0d-1fbf-408d-93a8-9d7311bbab0d",
   "metadata": {},
   "outputs": [
    {
     "data": {
      "text/plain": [
       "array([ 0.,  2.,  4.,  6.,  8., 10.])"
      ]
     },
     "execution_count": 64,
     "metadata": {},
     "output_type": "execute_result"
    }
   ],
   "source": [
    "np.linspace(0, 10, 6)"
   ]
  },
  {
   "cell_type": "code",
   "execution_count": 65,
   "id": "6a892c09-6901-45fa-80aa-89b450eeeb08",
   "metadata": {},
   "outputs": [
    {
     "data": {
      "text/plain": [
       "array([0.15815622, 0.58862823, 0.20828425, 0.69096726])"
      ]
     },
     "execution_count": 65,
     "metadata": {},
     "output_type": "execute_result"
    }
   ],
   "source": [
    "np.random.random(4)"
   ]
  },
  {
   "cell_type": "code",
   "execution_count": 66,
   "id": "e454e12b-46ef-44ec-98d8-33567c239d5e",
   "metadata": {},
   "outputs": [
    {
     "data": {
      "text/plain": [
       "array([[0.78249979, 0.32977106, 0.9298474 , 0.96276089],\n",
       "       [0.26492047, 0.70379772, 0.22430994, 0.74740191],\n",
       "       [0.75020512, 0.78058975, 0.39257463, 0.52561706],\n",
       "       [0.70081845, 0.16690492, 0.48562304, 0.08293594]])"
      ]
     },
     "execution_count": 66,
     "metadata": {},
     "output_type": "execute_result"
    }
   ],
   "source": [
    "np.random.random((4,4))"
   ]
  },
  {
   "cell_type": "markdown",
   "id": "76ad22a3-9659-48d7-b41a-d83be46d4188",
   "metadata": {},
   "source": [
    "### Индексы и срезы"
   ]
  },
  {
   "cell_type": "code",
   "execution_count": 67,
   "id": "30018a34-2385-475f-8d20-0cc54ccfa850",
   "metadata": {},
   "outputs": [
    {
     "data": {
      "text/plain": [
       "array([[1., 2., 3.],\n",
       "       [4., 5., 6.],\n",
       "       [7., 8., 9.]])"
      ]
     },
     "execution_count": 67,
     "metadata": {},
     "output_type": "execute_result"
    }
   ],
   "source": [
    "n=np.array(((1,2,3), (4,5,6), (7,8,9)), dtype=float)\n",
    "n"
   ]
  },
  {
   "cell_type": "code",
   "execution_count": 68,
   "id": "cc0a224a-ebcc-4476-b618-907db164100e",
   "metadata": {},
   "outputs": [
    {
     "data": {
      "text/plain": [
       "array([[7., 8., 9.],\n",
       "       [4., 5., 6.],\n",
       "       [1., 2., 3.]])"
      ]
     },
     "execution_count": 68,
     "metadata": {},
     "output_type": "execute_result"
    }
   ],
   "source": [
    "n[::-1] #перестановка строк"
   ]
  },
  {
   "cell_type": "code",
   "execution_count": 69,
   "id": "2a51f888-e5c7-42f9-b7ad-fd2a0efd6f32",
   "metadata": {},
   "outputs": [
    {
     "data": {
      "text/plain": [
       "array([3., 6., 9.])"
      ]
     },
     "execution_count": 69,
     "metadata": {},
     "output_type": "execute_result"
    }
   ],
   "source": [
    "n[:,2]"
   ]
  },
  {
   "cell_type": "code",
   "execution_count": 70,
   "id": "9fc3a895-b08a-49ab-82a3-7f9c9c5c3635",
   "metadata": {},
   "outputs": [
    {
     "data": {
      "text/plain": [
       "array([[ 1.,  2.,  3.],\n",
       "       [ 4.,  5., 10.],\n",
       "       [ 7.,  8.,  9.]])"
      ]
     },
     "execution_count": 70,
     "metadata": {},
     "output_type": "execute_result"
    }
   ],
   "source": [
    "n[1,2]=10\n",
    "n"
   ]
  },
  {
   "cell_type": "code",
   "execution_count": 71,
   "id": "11658c79-f8b1-42af-94a0-7bc348bf14da",
   "metadata": {},
   "outputs": [
    {
     "name": "stdout",
     "output_type": "stream",
     "text": [
      "[1.         1.41421356 1.73205081]\n",
      "[2.         2.23606798 3.16227766]\n",
      "[2.64575131 2.82842712 3.        ]\n"
     ]
    }
   ],
   "source": [
    "for i in n:\n",
    "    print(i**0.5)"
   ]
  },
  {
   "cell_type": "markdown",
   "id": "45a2cd65-08f0-4879-94e8-c62872291c30",
   "metadata": {},
   "source": [
    "## NumPy"
   ]
  },
  {
   "cell_type": "code",
   "execution_count": 72,
   "id": "0c3c52e9-bf26-4341-87f3-a300ca96039d",
   "metadata": {},
   "outputs": [],
   "source": [
    "import numpy as np"
   ]
  },
  {
   "cell_type": "code",
   "execution_count": 73,
   "id": "9c9e2473-3ef4-4639-8179-44a79bcde257",
   "metadata": {},
   "outputs": [
    {
     "name": "stdout",
     "output_type": "stream",
     "text": [
      "[0 1 2 3 4]\n",
      "int64\n"
     ]
    },
    {
     "data": {
      "text/plain": [
       "numpy.ndarray"
      ]
     },
     "execution_count": 73,
     "metadata": {},
     "output_type": "execute_result"
    }
   ],
   "source": [
    "# создание массива\n",
    "list_1 =[0,1,2,3,4]\n",
    "arr_1d=np.array(list_1)\n",
    "print(arr_1d)\n",
    "print(arr_1d.dtype)\n",
    "type(arr_1d)"
   ]
  },
  {
   "cell_type": "code",
   "execution_count": 74,
   "id": "b7186e58-88e7-4fe7-b498-c6705be822b8",
   "metadata": {},
   "outputs": [
    {
     "data": {
      "text/plain": [
       "(2, 4)"
      ]
     },
     "execution_count": 74,
     "metadata": {},
     "output_type": "execute_result"
    }
   ],
   "source": [
    "h=np.array([[0,2,3,4],[5,6,7,8]])\n",
    "h.shape"
   ]
  },
  {
   "cell_type": "code",
   "execution_count": 75,
   "id": "fc93c7b3-667d-4dca-9ed7-d6af4d1248b8",
   "metadata": {},
   "outputs": [
    {
     "name": "stdout",
     "output_type": "stream",
     "text": [
      "[1, 2, 3, 4, 5]\n",
      "[1 2 3 4 5]\n",
      "[0, 1, 2, 3, 4]\n",
      "[0 1 2 3 4]\n"
     ]
    }
   ],
   "source": [
    "# Прибавление и вычитание числа\n",
    "for i in range(len(list_1)):\n",
    "    list_1[i]+=1\n",
    "arr_1d +=1\n",
    "print(list_1)\n",
    "print(arr_1d)\n",
    "\n",
    "for i in range(len(list_1)):\n",
    "    list_1[i]-=1\n",
    "arr_1d-=1\n",
    "print(list_1)\n",
    "print(arr_1d)"
   ]
  },
  {
   "cell_type": "code",
   "execution_count": 76,
   "id": "5b549cae-7c93-451b-bd03-4f41cc26358d",
   "metadata": {},
   "outputs": [
    {
     "name": "stdout",
     "output_type": "stream",
     "text": [
      "zeros [0. 0. 0. 0. 0. 0. 0. 0. 0. 0.]\n",
      "ones [1. 1. 1. 1. 1. 1. 1. 1. 1. 1.]\n",
      "arange_1 [0 1 2 3 4 5 6 7 8 9]\n",
      "linspace_1 [0.  0.5 1.  1.5 2. ]\n"
     ]
    }
   ],
   "source": [
    "zeros = np.zeros(10)\n",
    "ones = np.ones(10)\n",
    "arange_1=np.arange(10)\n",
    "linspace_1=np.linspace(0,2,5)\n",
    "\n",
    "print('zeros', zeros)\n",
    "print('ones', ones)\n",
    "print('arange_1', arange_1)\n",
    "print('linspace_1', linspace_1)"
   ]
  },
  {
   "cell_type": "code",
   "execution_count": 77,
   "id": "ec93acbb-4704-4104-b14b-61daa8c17931",
   "metadata": {},
   "outputs": [
    {
     "name": "stdout",
     "output_type": "stream",
     "text": [
      "[ 1.  2.  3.  4.  5.  6.  7.  8.  9. 10.]\n",
      "[0. 1. 2. 3. 4. 5. 6. 7. 8. 9.]\n",
      "[       inf 1.         0.5        0.33333333 0.25       0.2\n",
      " 0.16666667 0.14285714 0.125      0.11111111]\n"
     ]
    },
    {
     "name": "stderr",
     "output_type": "stream",
     "text": [
      "C:\\Users\\ASUS\\AppData\\Local\\Temp\\ipykernel_4348\\604282676.py:3: RuntimeWarning: divide by zero encountered in divide\n",
      "  print(ones/arange_1)\n"
     ]
    }
   ],
   "source": [
    "print(ones+arange_1)\n",
    "print(ones*arange_1)\n",
    "print(ones/arange_1)"
   ]
  },
  {
   "cell_type": "code",
   "execution_count": 78,
   "id": "543ce3be-6875-4564-b94c-9345d54c3624",
   "metadata": {},
   "outputs": [
    {
     "name": "stdout",
     "output_type": "stream",
     "text": [
      "[5 6 7 8]\n",
      "arrange1= [[0 1 2 3 4]\n",
      " [5 6 7 8 9]]\n",
      "arrange2= [[3 4]\n",
      " [8 9]]\n",
      "arrange3= [1 3 5 7 9]\n"
     ]
    }
   ],
   "source": [
    "print(np.arange(10)[5:9])\n",
    "arange = np.arange(10).reshape(2,5)\n",
    "print('arrange1=', arange)\n",
    "print('arrange2=', arange[:,3:])\n",
    "print('arrange3=', arange[arange%2==1])"
   ]
  },
  {
   "cell_type": "code",
   "execution_count": 79,
   "id": "5be6ace3-e953-4631-802c-6f5ed410b2d7",
   "metadata": {},
   "outputs": [
    {
     "name": "stdout",
     "output_type": "stream",
     "text": [
      "(6,)\n"
     ]
    },
    {
     "data": {
      "text/plain": [
       "(1, 6)"
      ]
     },
     "execution_count": 79,
     "metadata": {},
     "output_type": "execute_result"
    }
   ],
   "source": [
    "a= np.arange(6)\n",
    "print(a.shape)\n",
    "a2=a[np.newaxis, :]\n",
    "a2.shape"
   ]
  },
  {
   "cell_type": "markdown",
   "id": "76023d61-082e-482f-a5af-7e9f19d14afb",
   "metadata": {},
   "source": [
    "# Pandas"
   ]
  },
  {
   "cell_type": "code",
   "execution_count": 80,
   "id": "20275f37-cf28-4e46-a01b-f32e62f2f1b2",
   "metadata": {},
   "outputs": [
    {
     "data": {
      "text/html": [
       "<div>\n",
       "<style scoped>\n",
       "    .dataframe tbody tr th:only-of-type {\n",
       "        vertical-align: middle;\n",
       "    }\n",
       "\n",
       "    .dataframe tbody tr th {\n",
       "        vertical-align: top;\n",
       "    }\n",
       "\n",
       "    .dataframe thead th {\n",
       "        text-align: right;\n",
       "    }\n",
       "</style>\n",
       "<table border=\"1\" class=\"dataframe\">\n",
       "  <thead>\n",
       "    <tr style=\"text-align: right;\">\n",
       "      <th></th>\n",
       "      <th>int_col</th>\n",
       "      <th>float_col</th>\n",
       "      <th>str_col</th>\n",
       "    </tr>\n",
       "  </thead>\n",
       "  <tbody>\n",
       "    <tr>\n",
       "      <th>0</th>\n",
       "      <td>1</td>\n",
       "      <td>0.10</td>\n",
       "      <td>a</td>\n",
       "    </tr>\n",
       "    <tr>\n",
       "      <th>1</th>\n",
       "      <td>2</td>\n",
       "      <td>0.20</td>\n",
       "      <td>b</td>\n",
       "    </tr>\n",
       "    <tr>\n",
       "      <th>2</th>\n",
       "      <td>6</td>\n",
       "      <td>10.10</td>\n",
       "      <td>None</td>\n",
       "    </tr>\n",
       "    <tr>\n",
       "      <th>3</th>\n",
       "      <td>8</td>\n",
       "      <td>0.32</td>\n",
       "      <td>c</td>\n",
       "    </tr>\n",
       "    <tr>\n",
       "      <th>4</th>\n",
       "      <td>-1</td>\n",
       "      <td>NaN</td>\n",
       "      <td>a</td>\n",
       "    </tr>\n",
       "  </tbody>\n",
       "</table>\n",
       "</div>"
      ],
      "text/plain": [
       "   int_col  float_col str_col\n",
       "0        1       0.10       a\n",
       "1        2       0.20       b\n",
       "2        6      10.10    None\n",
       "3        8       0.32       c\n",
       "4       -1        NaN       a"
      ]
     },
     "execution_count": 80,
     "metadata": {},
     "output_type": "execute_result"
    }
   ],
   "source": [
    "import pandas as pd\n",
    "df = pd.DataFrame({'int_col':[1,2,6,8,-1], 'float_col':[0.1,0.2,10.1,0.32, None], 'str_col': ['a','b', None, 'c', 'a']})\n",
    "df"
   ]
  },
  {
   "cell_type": "code",
   "execution_count": 81,
   "id": "f040f785-cfd5-443b-ac0c-12dc0e6d8127",
   "metadata": {},
   "outputs": [
    {
     "name": "stdout",
     "output_type": "stream",
     "text": [
      "           population  area\n",
      "London         123456  1572\n",
      "Berlin         798785  4567\n",
      "Madrid       45648645  1234\n",
      "Rome           456456  4562\n",
      "Paris          545644  4562\n",
      "Vienna        4545456  7895\n",
      "Bucharest     6456445  4561\n"
     ]
    }
   ],
   "source": [
    "cities={\"name\": [\"London\", \"Berlin\", \"Madrid\", \"Rome\", \"Paris\", \"Vienna\", \"Bucharest\"],\n",
    "       \"population\":[123456,798785,45648645,456456,545644,4545456,6456445],\n",
    "       \"area\":[1572,4567,1234,4562,4562,7895,4561]}\n",
    "city_frame=pd.DataFrame(cities, columns=[\"population\", \"area\"],\n",
    "                       index=cities[\"name\"])\n",
    "print(city_frame)"
   ]
  },
  {
   "cell_type": "code",
   "execution_count": 82,
   "id": "597289b4-39d4-4303-b02d-b49da10cf694",
   "metadata": {},
   "outputs": [
    {
     "data": {
      "text/html": [
       "<div>\n",
       "<style scoped>\n",
       "    .dataframe tbody tr th:only-of-type {\n",
       "        vertical-align: middle;\n",
       "    }\n",
       "\n",
       "    .dataframe tbody tr th {\n",
       "        vertical-align: top;\n",
       "    }\n",
       "\n",
       "    .dataframe thead th {\n",
       "        text-align: right;\n",
       "    }\n",
       "</style>\n",
       "<table border=\"1\" class=\"dataframe\">\n",
       "  <thead>\n",
       "    <tr style=\"text-align: right;\">\n",
       "      <th></th>\n",
       "      <th>float_col</th>\n",
       "      <th>int_col</th>\n",
       "    </tr>\n",
       "  </thead>\n",
       "  <tbody>\n",
       "    <tr>\n",
       "      <th>0</th>\n",
       "      <td>0.10</td>\n",
       "      <td>1</td>\n",
       "    </tr>\n",
       "    <tr>\n",
       "      <th>1</th>\n",
       "      <td>0.20</td>\n",
       "      <td>2</td>\n",
       "    </tr>\n",
       "    <tr>\n",
       "      <th>2</th>\n",
       "      <td>10.10</td>\n",
       "      <td>6</td>\n",
       "    </tr>\n",
       "    <tr>\n",
       "      <th>3</th>\n",
       "      <td>0.32</td>\n",
       "      <td>8</td>\n",
       "    </tr>\n",
       "    <tr>\n",
       "      <th>4</th>\n",
       "      <td>NaN</td>\n",
       "      <td>-1</td>\n",
       "    </tr>\n",
       "  </tbody>\n",
       "</table>\n",
       "</div>"
      ],
      "text/plain": [
       "   float_col  int_col\n",
       "0       0.10        1\n",
       "1       0.20        2\n",
       "2      10.10        6\n",
       "3       0.32        8\n",
       "4        NaN       -1"
      ]
     },
     "execution_count": 82,
     "metadata": {},
     "output_type": "execute_result"
    }
   ],
   "source": [
    "df.loc[:,['float_col','int_col']]"
   ]
  },
  {
   "cell_type": "markdown",
   "id": "28c935cc-ef88-4ea3-823e-55638438fa11",
   "metadata": {},
   "source": [
    "# 1.\tИспользование команд библиотеки NumPy"
   ]
  },
  {
   "cell_type": "markdown",
   "id": "cf173a7f-68b3-4edf-b958-fcde5a188007",
   "metadata": {},
   "source": [
    "### 1.1.\tСоздайте одномерный массив my_array, в котором по порядку все числа до 100, кратные 5"
   ]
  },
  {
   "cell_type": "code",
   "execution_count": 83,
   "id": "bda478f1-4275-4ab2-bab2-4ef73ee6b99c",
   "metadata": {},
   "outputs": [
    {
     "name": "stdout",
     "output_type": "stream",
     "text": [
      "Массив чисел, кратных 5: [  5  10  15  20  25  30  35  40  45  50  55  60  65  70  75  80  85  90\n",
      "  95 100]\n"
     ]
    }
   ],
   "source": [
    "import numpy as np\n",
    "\n",
    "my_array = np.arange(5, 101, 5)\n",
    "print(\"Массив чисел, кратных 5:\", my_array)"
   ]
  },
  {
   "cell_type": "markdown",
   "id": "d0668379-7da9-4a61-ab1e-2798ae4b5de6",
   "metadata": {},
   "source": [
    "### 2.1.\tИз полученного массива получить массив с кратными 10 числами"
   ]
  },
  {
   "cell_type": "code",
   "execution_count": 84,
   "id": "2114c3c5-559e-4a6d-acee-3bdad33b443f",
   "metadata": {},
   "outputs": [
    {
     "name": "stdout",
     "output_type": "stream",
     "text": [
      "Массив чисел, кратных 10: [ 10  20  30  40  50  60  70  80  90 100]\n"
     ]
    }
   ],
   "source": [
    "my_array_10 = my_array[my_array % 10 == 0]\n",
    "print(\"Массив чисел, кратных 10:\", my_array_10)"
   ]
  },
  {
   "cell_type": "markdown",
   "id": "1ae69253-6a76-44ed-8a25-b2315c4d293e",
   "metadata": {},
   "source": [
    "### 3.1.\tПолучить двумерный массив с двумя столбцами"
   ]
  },
  {
   "cell_type": "code",
   "execution_count": 85,
   "id": "93c35e25-260d-43e4-93e8-b108940abfc0",
   "metadata": {},
   "outputs": [
    {
     "name": "stdout",
     "output_type": "stream",
     "text": [
      "[[ 10  20]\n",
      " [ 30  40]\n",
      " [ 50  60]\n",
      " [ 70  80]\n",
      " [ 90 100]]\n"
     ]
    }
   ],
   "source": [
    "two_column = my_array_10.reshape(-1, 2)\n",
    "\n",
    "print(two_column)"
   ]
  },
  {
   "cell_type": "markdown",
   "id": "c8481801-945a-4aaa-b1d5-2ae3fc8b982b",
   "metadata": {},
   "source": [
    "### 4.1.\tПолучите набор my_second_array, в котором все элементы меньше предыдущего исходного на 5"
   ]
  },
  {
   "cell_type": "code",
   "execution_count": 86,
   "id": "70df9579-3e69-4b0f-8014-629f22d32c05",
   "metadata": {},
   "outputs": [
    {
     "name": "stdout",
     "output_type": "stream",
     "text": [
      "[[ 5 15]\n",
      " [25 35]\n",
      " [45 55]\n",
      " [65 75]\n",
      " [85 95]]\n"
     ]
    }
   ],
   "source": [
    "two_column_array_second = two_column - 5\n",
    "\n",
    "print(two_column_array_second)"
   ]
  },
  {
   "cell_type": "markdown",
   "id": "55dd7e90-4e28-4506-942d-133f9c978375",
   "metadata": {},
   "source": [
    "### 5.1.\tСоедините массивы, полученные в п. 3.1 и 4.1, горизонтально. Используйте .T для транспонирования матрицы."
   ]
  },
  {
   "cell_type": "code",
   "execution_count": 87,
   "id": "b8b83cc9-6609-48c5-8ec7-36c2461446bd",
   "metadata": {},
   "outputs": [
    {
     "name": "stdout",
     "output_type": "stream",
     "text": [
      "[[ 10  20   5  15]\n",
      " [ 30  40  25  35]\n",
      " [ 50  60  45  55]\n",
      " [ 70  80  65  75]\n",
      " [ 90 100  85  95]]\n"
     ]
    }
   ],
   "source": [
    "join_array = np.hstack((two_column, two_column_array_second))\n",
    "\n",
    "print(join_array)"
   ]
  },
  {
   "cell_type": "markdown",
   "id": "ac2de146-d229-400a-b5ba-9bdc971981ef",
   "metadata": {},
   "source": [
    "### 6.1.\tРазделите 2 и 3 строку на 4 верхних строки my_array. Используйте .T для транспонирования матрицы"
   ]
  },
  {
   "cell_type": "code",
   "execution_count": 88,
   "id": "bada4568-5142-4762-b3df-b34e2701603f",
   "metadata": {},
   "outputs": [
    {
     "name": "stdout",
     "output_type": "stream",
     "text": [
      "[[ 10.          20.           5.          15.        ]\n",
      " [  0.42857143   0.5          0.38461538   0.46666667]\n",
      " [  0.71428571   0.75         0.69230769   0.73333333]\n",
      " [ 70.          80.          65.          75.        ]\n",
      " [ 90.         100.          85.          95.        ]]\n"
     ]
    }
   ],
   "source": [
    "division_2nd = join_array[1] / join_array[3]\n",
    "division_3rd = join_array[2] / join_array[3]\n",
    "\n",
    "new_join_array = join_array.copy().astype(float)\n",
    "new_join_array[1] = division_2nd\n",
    "new_join_array[2] = division_3rd\n",
    "print(new_join_array)"
   ]
  },
  {
   "cell_type": "markdown",
   "id": "c0a3374f-3c75-4792-b4cf-ab2cb3bd2c8f",
   "metadata": {},
   "source": [
    "### 7.1.\tОставить только те значения, которые не изменились после деления"
   ]
  },
  {
   "cell_type": "code",
   "execution_count": 89,
   "id": "09c4a3f4-3796-4d40-8eb8-da1d352fa6dd",
   "metadata": {},
   "outputs": [
    {
     "name": "stdout",
     "output_type": "stream",
     "text": [
      "[[ 10.  20.   5.  15.]\n",
      " [ 70.  80.  65.  75.]\n",
      " [ 90. 100.  85.  95.]]\n"
     ]
    }
   ],
   "source": [
    "equal = np.all(join_array == new_join_array, axis=1)\n",
    "news = new_join_array[equal]\n",
    "print(news)"
   ]
  },
  {
   "cell_type": "markdown",
   "id": "70600f24-7099-48e7-8245-6ff9db59146a",
   "metadata": {},
   "source": [
    "### 8.1.\tСнова получить трехстрочный двумерный массив и поменять местами первую и третью строки"
   ]
  },
  {
   "cell_type": "code",
   "execution_count": 90,
   "id": "4dc4e28e-4317-4409-bec0-129243b3f543",
   "metadata": {},
   "outputs": [
    {
     "name": "stdout",
     "output_type": "stream",
     "text": [
      "[[ 90. 100.  85.  95.]\n",
      " [ 70.  80.  65.  75.]\n",
      " [ 10.  20.   5.  15.]]\n"
     ]
    }
   ],
   "source": [
    "news[[0, 2]] = news[[2, 0]]\n",
    "print(news)"
   ]
  },
  {
   "cell_type": "markdown",
   "id": "a9cdf505-ab10-4426-b0ad-b9df6db42a73",
   "metadata": {},
   "source": [
    "### 9.1.\tПолучить среднее, медиану и стандартное отклонение для каждой строки, используя команды np.mean(), np.median(), np.std()."
   ]
  },
  {
   "cell_type": "code",
   "execution_count": 91,
   "id": "b1c65c73-becb-462d-85e3-d5f45611f69b",
   "metadata": {},
   "outputs": [
    {
     "name": "stdout",
     "output_type": "stream",
     "text": [
      "Mean: [92.5 72.5 12.5]\n",
      "Median: [92.5 72.5 12.5]\n",
      "STD: [5.59016994 5.59016994 5.59016994]\n"
     ]
    }
   ],
   "source": [
    "mean_value = np.mean(news, axis=1)\n",
    "median_value = np.median(news, axis=1)\n",
    "std_value = np.std(news, axis=1)\n",
    "\n",
    "print(\"Mean:\", mean_value)\n",
    "print(\"Median:\", median_value)\n",
    "print(\"STD:\", std_value)"
   ]
  },
  {
   "cell_type": "markdown",
   "id": "f0412b57-6980-4c09-a10a-20eb62b0fc4e",
   "metadata": {},
   "source": [
    "### 10.1.\tСделать нормализацию на максимальное значение вдоль строк, поделив каждый элемент массива на max() вдоль строк."
   ]
  },
  {
   "cell_type": "code",
   "execution_count": 92,
   "id": "de2bcfcc-b882-4fb7-9136-954c0011defd",
   "metadata": {},
   "outputs": [
    {
     "name": "stdout",
     "output_type": "stream",
     "text": [
      "[[0.9    1.     0.85   0.95  ]\n",
      " [0.875  1.     0.8125 0.9375]\n",
      " [0.5    1.     0.25   0.75  ]]\n"
     ]
    }
   ],
   "source": [
    "max_value = np.max(news, axis=1, keepdims=True)\n",
    "result = news / max_value\n",
    "print(result)"
   ]
  },
  {
   "cell_type": "markdown",
   "id": "a47d8c2a-a50b-45b5-a25f-79e05859dc60",
   "metadata": {},
   "source": [
    "# 2.\tИспользование команд библиотеки pandas"
   ]
  },
  {
   "cell_type": "markdown",
   "id": "8eb67fb5-9ff2-41aa-8225-1ad7aaa291bc",
   "metadata": {},
   "source": [
    "### 2.1.\tИмпортируйте данные из файла “Global Population Trends(2016-2022).csv”. Описание данных смотрите ниже."
   ]
  },
  {
   "cell_type": "markdown",
   "id": "cddf6cc2-ffba-443a-9612-ff74c420c28b",
   "metadata": {},
   "source": [
    "### 2.2.\t Считайте несколько первых записей таблицы (head())\n",
    "### 2.3.\t Определите размерность данного фрейма (shape())\n",
    "### 2.4.\t Выведите название заголовков столбцов фрейма (columns)\n",
    "### 2.5.\tПолучите описание всех переменных (полей) (info())\n"
   ]
  },
  {
   "cell_type": "code",
   "execution_count": 93,
   "id": "9a71d646-2d4f-4b77-a157-c21943f83c85",
   "metadata": {},
   "outputs": [
    {
     "name": "stdout",
     "output_type": "stream",
     "text": [
      "       Country  Year Total Population Urban Population Rural Population  \\\n",
      "0  Afghanistan  2017                -                -                -   \n",
      "1  Afghanistan  2018       36,686,784        9,353,296       27,333,488   \n",
      "2  Afghanistan  2019       37,769,499        9,727,157       28,042,342   \n",
      "3  Afghanistan  2020       38,972,230       10,142,913       28,829,317   \n",
      "4  Afghanistan  2021       40,099,462       10,551,772       29,547,690   \n",
      "\n",
      "  Population Density Life Expectancy  Birth Rate  Death Rate Fertility Rate  \\\n",
      "0                 55            63.0      37.342       7.027          5.129   \n",
      "1                 56            63.0      36.927       6.981          5.002   \n",
      "2                 58            64.0      36.466       6.791           4.87   \n",
      "3                 60            63.0      36.051       7.113           4.75   \n",
      "4                  -            62.0      35.842       7.344          4.643   \n",
      "\n",
      "  Infant Mortality Rate Growth Rate  \n",
      "0                  49.4           -  \n",
      "1                  47.8         3.0  \n",
      "2                  46.3         3.0  \n",
      "3                  44.8         3.0  \n",
      "4                  43.4         3.0  \n",
      "(1073, 12)\n",
      "Index(['Country', 'Year', 'Total Population', 'Urban Population',\n",
      "       'Rural Population', 'Population Density', 'Life Expectancy',\n",
      "       'Birth Rate', 'Death Rate', 'Fertility Rate', 'Infant Mortality Rate',\n",
      "       'Growth Rate'],\n",
      "      dtype='object')\n",
      "<class 'pandas.core.frame.DataFrame'>\n",
      "RangeIndex: 1073 entries, 0 to 1072\n",
      "Data columns (total 12 columns):\n",
      " #   Column                 Non-Null Count  Dtype  \n",
      "---  ------                 --------------  -----  \n",
      " 0   Country                1073 non-null   object \n",
      " 1   Year                   1073 non-null   int64  \n",
      " 2   Total Population       1073 non-null   object \n",
      " 3   Urban Population       1073 non-null   object \n",
      " 4   Rural Population       1073 non-null   object \n",
      " 5   Population Density     1073 non-null   object \n",
      " 6   Life Expectancy        1073 non-null   object \n",
      " 7   Birth Rate             1073 non-null   float64\n",
      " 8   Death Rate             1073 non-null   float64\n",
      " 9   Fertility Rate         1073 non-null   object \n",
      " 10  Infant Mortality Rate  1073 non-null   object \n",
      " 11  Growth Rate            1073 non-null   object \n",
      "dtypes: float64(2), int64(1), object(9)\n",
      "memory usage: 100.7+ KB\n",
      "None\n"
     ]
    }
   ],
   "source": [
    "import pandas as pd\n",
    "\n",
    "df = pd.read_csv('Global Population Trends(2016-2022).csv')\n",
    "print(df.head())\n",
    "print(df.shape)\n",
    "print(df.columns)\n",
    "print(df.info())"
   ]
  },
  {
   "cell_type": "markdown",
   "id": "ca65c4b4-cfeb-457a-b026-9f79bb08b3e4",
   "metadata": {},
   "source": [
    "### 2.6.\t Удалите строки, не содержащие значения в столбце «Total Population» - “-” "
   ]
  },
  {
   "cell_type": "code",
   "execution_count": 94,
   "id": "577e2cae-84a4-4c16-b2c5-bd7e449a0dce",
   "metadata": {},
   "outputs": [
    {
     "name": "stdout",
     "output_type": "stream",
     "text": [
      "          Country  Year Total Population Urban Population Rural Population  \\\n",
      "1     Afghanistan  2018       36,686,784        9,353,296       27,333,488   \n",
      "2     Afghanistan  2019       37,769,499        9,727,157       28,042,342   \n",
      "3     Afghanistan  2020       38,972,230       10,142,913       28,829,317   \n",
      "4     Afghanistan  2021       40,099,462       10,551,772       29,547,690   \n",
      "6         Albania  2018        2,866,376        1,728,969        1,137,407   \n",
      "...           ...   ...              ...              ...              ...   \n",
      "1067       Zambia  2021       19,473,125        8,800,295       10,672,830   \n",
      "1069     Zimbabwe  2018       15,052,184        4,848,158       10,204,026   \n",
      "1070     Zimbabwe  2019       15,354,608        4,945,719       10,408,889   \n",
      "1071     Zimbabwe  2020       15,669,666        5,052,214       10,617,452   \n",
      "1072     Zimbabwe  2021       15,993,524        5,166,388       10,827,136   \n",
      "\n",
      "     Population Density Life Expectancy  Birth Rate  Death Rate  \\\n",
      "1                    56            63.0      36.927       6.981   \n",
      "2                    58            64.0      36.466       6.791   \n",
      "3                    60            63.0      36.051       7.113   \n",
      "4                     -            62.0      35.842       7.344   \n",
      "6                   105            79.0      10.517       8.308   \n",
      "...                 ...             ...         ...         ...   \n",
      "1067                  -            61.0      34.511       6.973   \n",
      "1069                 39            61.0      32.074       7.972   \n",
      "1070                 40            61.0      31.518       8.043   \n",
      "1071                 41            61.0      31.009       8.132   \n",
      "1072                  -            59.0      30.537       9.057   \n",
      "\n",
      "     Fertility Rate Infant Mortality Rate Growth Rate  \n",
      "1             5.002                  47.8         3.0  \n",
      "2              4.87                  46.3         3.0  \n",
      "3              4.75                  44.8         3.0  \n",
      "4             4.643                  43.4         3.0  \n",
      "6              1.44                   8.3         0.0  \n",
      "...             ...                   ...         ...  \n",
      "1067          4.308                  40.2         3.0  \n",
      "1069          3.659                  38.0         2.0  \n",
      "1070          3.599                  37.1         2.0  \n",
      "1071          3.545                  36.6         2.0  \n",
      "1072          3.491                  35.7         2.0  \n",
      "\n",
      "[864 rows x 12 columns]\n"
     ]
    }
   ],
   "source": [
    "df1=df[df['Total Population']!='-']\n",
    "print (df1)"
   ]
  },
  {
   "cell_type": "markdown",
   "id": "e478162a-628d-47c3-b54f-46280918c73b",
   "metadata": {},
   "source": [
    "### 2.7.\tПолучите описательную статистику по переменным (например, max(), min(), describe())"
   ]
  },
  {
   "cell_type": "code",
   "execution_count": 95,
   "id": "57342375-187e-4896-8d0f-f302aa246276",
   "metadata": {},
   "outputs": [
    {
     "name": "stdout",
     "output_type": "stream",
     "text": [
      "Country                    Zimbabwe\n",
      "Year                           2021\n",
      "Total Population             99,258\n",
      "Urban Population         99,876,265\n",
      "Rural Population            998,397\n",
      "Population Density               99\n",
      "Life Expectancy                85.0\n",
      "Birth Rate                   46.127\n",
      "Death Rate                     21.7\n",
      "Fertility Rate                7.023\n",
      "Infant Mortality Rate           9.9\n",
      "Growth Rate                     5.0\n",
      "dtype: object\n",
      "Country                  Afghanistan\n",
      "Year                            2018\n",
      "Total Population           1,057,198\n",
      "Urban Population                   -\n",
      "Rural Population                   -\n",
      "Population Density                 -\n",
      "Life Expectancy                    -\n",
      "Birth Rate                       0.0\n",
      "Death Rate                       0.0\n",
      "Fertility Rate                     -\n",
      "Infant Mortality Rate              -\n",
      "Growth Rate                     -1.0\n",
      "dtype: object\n",
      "              Year  Birth Rate  Death Rate\n",
      "count   864.000000  864.000000  864.000000\n",
      "mean   2019.500000   18.548384    7.889123\n",
      "std       1.118682    9.887518    3.041385\n",
      "min    2018.000000    0.000000    0.000000\n",
      "25%    2018.750000   10.500000    6.116500\n",
      "50%    2019.500000   15.628500    7.453500\n",
      "75%    2020.250000   25.565000    9.385000\n",
      "max    2021.000000   46.127000   21.700000\n",
      "count     864\n",
      "unique    817\n",
      "top         -\n",
      "freq       48\n",
      "Name: Rural Population, dtype: object\n",
      "998,397\n",
      "-\n"
     ]
    }
   ],
   "source": [
    "print(df1.max())\n",
    "print(df1.min())\n",
    "print(df1.describe())\n",
    "print(df1['Rural Population'].describe())\n",
    "print(df1['Rural Population'].max())\n",
    "print(df1['Rural Population'].min())"
   ]
  },
  {
   "cell_type": "markdown",
   "id": "25ec3ed3-047f-4fda-8f71-a1a8f46c985e",
   "metadata": {},
   "source": [
    "### 2.8.\tВыполните сортировку данных по нескольким критериям"
   ]
  },
  {
   "cell_type": "code",
   "execution_count": 96,
   "id": "8e271c76-bda1-454c-972b-9c3578af4297",
   "metadata": {},
   "outputs": [
    {
     "name": "stdout",
     "output_type": "stream",
     "text": [
      "            Country  Year Total Population Urban Population Rural Population  \\\n",
      "104         Bermuda  2018           63,918           63,918                -   \n",
      "178  Cayman Islands  2018           64,884           64,884                -   \n",
      "362       Gibraltar  2018           32,648           32,648                -   \n",
      "417       Hong Kong  2018        7,452,600        7,452,600                -   \n",
      "502          Kosovo  2018        1,797,085                -                -   \n",
      "\n",
      "    Population Density Life Expectancy  Birth Rate  Death Rate Fertility Rate  \\\n",
      "104              1,184            81.0       8.300       8.300            1.3   \n",
      "178                270               -       9.900       3.300              -   \n",
      "362              3,265            82.0      11.242       8.191          1.879   \n",
      "417              7,098            85.0       7.200       6.400           1.08   \n",
      "502                  -            79.0      12.094       5.505          1.605   \n",
      "\n",
      "    Infant Mortality Rate Growth Rate  \n",
      "104                     -         0.0  \n",
      "178                     -         2.0  \n",
      "362                     -         0.0  \n",
      "417                     -         1.0  \n",
      "502                  10.8         0.0  \n"
     ]
    }
   ],
   "source": [
    "df_sort = df1.sort_values(by=['Rural Population','Year','Country'])\n",
    "print(df_sort.head())"
   ]
  },
  {
   "cell_type": "code",
   "execution_count": 97,
   "id": "90a87f65-83f1-47ef-9190-6a2c8f0273c9",
   "metadata": {},
   "outputs": [
    {
     "name": "stdout",
     "output_type": "stream",
     "text": [
      "1       36686784.0\n",
      "2       37769499.0\n",
      "3       38972230.0\n",
      "4       40099462.0\n",
      "6        2866376.0\n",
      "           ...    \n",
      "1067    19473125.0\n",
      "1069    15052184.0\n",
      "1070    15354608.0\n",
      "1071    15669666.0\n",
      "1072    15993524.0\n",
      "Name: Total Population, Length: 864, dtype: object\n"
     ]
    }
   ],
   "source": [
    "# Фильтруем данные, убирая строки с нечисловыми значениями в 'Total Population'\n",
    "df1 = df[df['Total Population'] != '-'].copy()  # Создаем явную копию\n",
    "df1.loc[:, 'Total Population'] = df1['Total Population'].astype(str).str.replace(',', '').astype(float)\n",
    "print(df1['Total Population'])"
   ]
  },
  {
   "cell_type": "markdown",
   "id": "f0c97e1b-a224-4d39-b360-012e43bdec31",
   "metadata": {},
   "source": [
    "### 2.9.\t Выведите название страны, которая имеет максимальную численность населения"
   ]
  },
  {
   "cell_type": "code",
   "execution_count": 98,
   "id": "cfae7505-bca1-4285-a774-bb484b0b8483",
   "metadata": {},
   "outputs": [
    {
     "name": "stdout",
     "output_type": "stream",
     "text": [
      "Страна с максимальной численностью населения: China\n"
     ]
    }
   ],
   "source": [
    "country_max_population = df1.loc[df1['Total Population'].idxmax(), 'Country']\n",
    "print(f\"Страна с максимальной численностью населения: {country_max_population}\")"
   ]
  },
  {
   "cell_type": "markdown",
   "id": "079a8616-9149-42d3-93a3-2dd09e8f17e3",
   "metadata": {},
   "source": [
    "### 2.10.\tВыведите название страны, которая имеет минимальную численность населения"
   ]
  },
  {
   "cell_type": "code",
   "execution_count": 99,
   "id": "0606630b-23b9-4e80-82e9-67ac98ff41df",
   "metadata": {},
   "outputs": [
    {
     "name": "stdout",
     "output_type": "stream",
     "text": [
      "Страна с минимальной численностью населения: Tuvalu\n"
     ]
    }
   ],
   "source": [
    "country_min_population = df1.loc[df1['Total Population'].idxmin(), 'Country']\n",
    "print(f\"Страна с минимальной численностью населения: {country_min_population}\")"
   ]
  },
  {
   "cell_type": "markdown",
   "id": "d70fb27a-0243-43b6-bf97-588fa0e667af",
   "metadata": {},
   "source": [
    "### 2.11.\tЭкспорт фрейма в MS Excel"
   ]
  },
  {
   "cell_type": "code",
   "execution_count": 100,
   "id": "2226f32c-6c3c-4ce5-a7ec-e7bb093bb2ed",
   "metadata": {},
   "outputs": [],
   "source": [
    "import pandas as pd\n",
    "df1.to_excel('Global_Population_Trends.xlsx', index=False)"
   ]
  }
 ],
 "metadata": {
  "kernelspec": {
   "display_name": "Python 3 (ipykernel)",
   "language": "python",
   "name": "python3"
  },
  "language_info": {
   "codemirror_mode": {
    "name": "ipython",
    "version": 3
   },
   "file_extension": ".py",
   "mimetype": "text/x-python",
   "name": "python",
   "nbconvert_exporter": "python",
   "pygments_lexer": "ipython3",
   "version": "3.10.7"
  }
 },
 "nbformat": 4,
 "nbformat_minor": 5
}
